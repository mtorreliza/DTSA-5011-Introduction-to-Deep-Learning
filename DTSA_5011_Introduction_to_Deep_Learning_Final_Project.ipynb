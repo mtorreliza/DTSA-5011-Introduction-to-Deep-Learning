{
  "nbformat": 4,
  "nbformat_minor": 0,
  "metadata": {
    "colab": {
      "name": "Copy of Copy of DTSA 5011 Introduction to Deep Learning - Final Project",
      "provenance": [],
      "collapsed_sections": []
    },
    "kernelspec": {
      "name": "python3",
      "display_name": "Python 3"
    },
    "language_info": {
      "name": "python"
    },
    "accelerator": "GPU",
    "gpuClass": "standard"
  },
  "cells": [
    {
      "cell_type": "markdown",
      "source": [
        "# Bitcoin Price Prediction using RNN (Recurring Neural Network)\n",
        "##DTSA 5011 Introduction to Deep Learning - Final Project"
      ],
      "metadata": {
        "id": "SVZiJ0eHCIm7"
      }
    },
    {
      "cell_type": "markdown",
      "source": [
        "###**Overview**\n",
        "\n",
        "According to Investopedia, a cryptocurrency is a digital or virtual currency that is secured by cryptography, which makes it nearly impossible to counterfeit or double-spend. They are decentralized networks based on blockchain technology. Bitcoin is the number 1 cryptocurrency today with a Market capitalization of ~450 Billion Dollars as of 8/12/2022. It has been one of the popular topics today as many are still wary about its nature. But also, investors significantly grew and attracted institutions including big names in the investment industry. \n",
        "\n",
        "The data is collected from  <a href=\"https://finance.yahoo.com/quote/BTC-USD/history?period1=1410825600&period2=1660694400&interval=1d&filter=history&frequency=1d&includeAdjustedClose=true\">finance.yahoo.com</a> which contains all historical prices of Bitcoin per day. In this particular analysis, we will use the close price as the main variable.\n",
        "\n",
        "The goal of this project is to build a predictive model using RNN (Recurring Neural Network). According to <a href=\"https://www.ibm.com/cloud/learn/recurrent-neural-networks\">ibm.com</a>, a recurrent neural network (RNN) is a type of artificial neural network which uses sequential data or time series data. This model is suitable for our data since it is a time series data consisting of 2,891 rows of data. Let us explore more of our dataset below!"
      ],
      "metadata": {
        "id": "1EvSELC2CZ8b"
      }
    },
    {
      "cell_type": "markdown",
      "source": [
        "###**Exploratory Data Analysis (EDA)**"
      ],
      "metadata": {
        "id": "MFUPiC3wC1bo"
      }
    },
    {
      "cell_type": "code",
      "source": [
        "import numpy as np\n",
        "import pandas as pd\n",
        "import math\n",
        "import pandas_datareader as web\n",
        "import matplotlib.pyplot as plt\n",
        "from sklearn.preprocessing import MinMaxScaler\n",
        "import tensorflow as tf\n",
        "from keras.models import Sequential\n",
        "from keras.layers import Dense, LSTM, Dropout\n",
        "from sklearn.metrics import mean_squared_error"
      ],
      "metadata": {
        "id": "B1mDCkH1xQXm"
      },
      "execution_count": 1,
      "outputs": []
    },
    {
      "cell_type": "code",
      "source": [
        "df = pd.read_csv('BTC-USD.csv')\n",
        "df.head()"
      ],
      "metadata": {
        "colab": {
          "base_uri": "https://localhost:8080/",
          "height": 206
        },
        "id": "5fiXmRSGjGls",
        "outputId": "892912eb-0528-4a0e-89cc-cf934ed84d02"
      },
      "execution_count": 2,
      "outputs": [
        {
          "output_type": "execute_result",
          "data": {
            "text/plain": [
              "        Date    Open    High     Low  Close*  Adj Close**      Volume\n",
              "0  9/17/2014  465.86  468.17  452.42  457.33       457.33  21056800.0\n",
              "1  9/18/2014  456.86  456.86  413.10  424.44       424.44  34483200.0\n",
              "2  9/19/2014  424.10  427.83  384.53  394.80       394.80  37919700.0\n",
              "3  9/20/2014  394.67  423.30  389.88  408.90       408.90  36863600.0\n",
              "4  9/21/2014  408.08  412.43  393.18  398.82       398.82  26580100.0"
            ],
            "text/html": [
              "\n",
              "  <div id=\"df-d2eb9c02-3307-4bcd-90b8-645371078235\">\n",
              "    <div class=\"colab-df-container\">\n",
              "      <div>\n",
              "<style scoped>\n",
              "    .dataframe tbody tr th:only-of-type {\n",
              "        vertical-align: middle;\n",
              "    }\n",
              "\n",
              "    .dataframe tbody tr th {\n",
              "        vertical-align: top;\n",
              "    }\n",
              "\n",
              "    .dataframe thead th {\n",
              "        text-align: right;\n",
              "    }\n",
              "</style>\n",
              "<table border=\"1\" class=\"dataframe\">\n",
              "  <thead>\n",
              "    <tr style=\"text-align: right;\">\n",
              "      <th></th>\n",
              "      <th>Date</th>\n",
              "      <th>Open</th>\n",
              "      <th>High</th>\n",
              "      <th>Low</th>\n",
              "      <th>Close*</th>\n",
              "      <th>Adj Close**</th>\n",
              "      <th>Volume</th>\n",
              "    </tr>\n",
              "  </thead>\n",
              "  <tbody>\n",
              "    <tr>\n",
              "      <th>0</th>\n",
              "      <td>9/17/2014</td>\n",
              "      <td>465.86</td>\n",
              "      <td>468.17</td>\n",
              "      <td>452.42</td>\n",
              "      <td>457.33</td>\n",
              "      <td>457.33</td>\n",
              "      <td>21056800.0</td>\n",
              "    </tr>\n",
              "    <tr>\n",
              "      <th>1</th>\n",
              "      <td>9/18/2014</td>\n",
              "      <td>456.86</td>\n",
              "      <td>456.86</td>\n",
              "      <td>413.10</td>\n",
              "      <td>424.44</td>\n",
              "      <td>424.44</td>\n",
              "      <td>34483200.0</td>\n",
              "    </tr>\n",
              "    <tr>\n",
              "      <th>2</th>\n",
              "      <td>9/19/2014</td>\n",
              "      <td>424.10</td>\n",
              "      <td>427.83</td>\n",
              "      <td>384.53</td>\n",
              "      <td>394.80</td>\n",
              "      <td>394.80</td>\n",
              "      <td>37919700.0</td>\n",
              "    </tr>\n",
              "    <tr>\n",
              "      <th>3</th>\n",
              "      <td>9/20/2014</td>\n",
              "      <td>394.67</td>\n",
              "      <td>423.30</td>\n",
              "      <td>389.88</td>\n",
              "      <td>408.90</td>\n",
              "      <td>408.90</td>\n",
              "      <td>36863600.0</td>\n",
              "    </tr>\n",
              "    <tr>\n",
              "      <th>4</th>\n",
              "      <td>9/21/2014</td>\n",
              "      <td>408.08</td>\n",
              "      <td>412.43</td>\n",
              "      <td>393.18</td>\n",
              "      <td>398.82</td>\n",
              "      <td>398.82</td>\n",
              "      <td>26580100.0</td>\n",
              "    </tr>\n",
              "  </tbody>\n",
              "</table>\n",
              "</div>\n",
              "      <button class=\"colab-df-convert\" onclick=\"convertToInteractive('df-d2eb9c02-3307-4bcd-90b8-645371078235')\"\n",
              "              title=\"Convert this dataframe to an interactive table.\"\n",
              "              style=\"display:none;\">\n",
              "        \n",
              "  <svg xmlns=\"http://www.w3.org/2000/svg\" height=\"24px\"viewBox=\"0 0 24 24\"\n",
              "       width=\"24px\">\n",
              "    <path d=\"M0 0h24v24H0V0z\" fill=\"none\"/>\n",
              "    <path d=\"M18.56 5.44l.94 2.06.94-2.06 2.06-.94-2.06-.94-.94-2.06-.94 2.06-2.06.94zm-11 1L8.5 8.5l.94-2.06 2.06-.94-2.06-.94L8.5 2.5l-.94 2.06-2.06.94zm10 10l.94 2.06.94-2.06 2.06-.94-2.06-.94-.94-2.06-.94 2.06-2.06.94z\"/><path d=\"M17.41 7.96l-1.37-1.37c-.4-.4-.92-.59-1.43-.59-.52 0-1.04.2-1.43.59L10.3 9.45l-7.72 7.72c-.78.78-.78 2.05 0 2.83L4 21.41c.39.39.9.59 1.41.59.51 0 1.02-.2 1.41-.59l7.78-7.78 2.81-2.81c.8-.78.8-2.07 0-2.86zM5.41 20L4 18.59l7.72-7.72 1.47 1.35L5.41 20z\"/>\n",
              "  </svg>\n",
              "      </button>\n",
              "      \n",
              "  <style>\n",
              "    .colab-df-container {\n",
              "      display:flex;\n",
              "      flex-wrap:wrap;\n",
              "      gap: 12px;\n",
              "    }\n",
              "\n",
              "    .colab-df-convert {\n",
              "      background-color: #E8F0FE;\n",
              "      border: none;\n",
              "      border-radius: 50%;\n",
              "      cursor: pointer;\n",
              "      display: none;\n",
              "      fill: #1967D2;\n",
              "      height: 32px;\n",
              "      padding: 0 0 0 0;\n",
              "      width: 32px;\n",
              "    }\n",
              "\n",
              "    .colab-df-convert:hover {\n",
              "      background-color: #E2EBFA;\n",
              "      box-shadow: 0px 1px 2px rgba(60, 64, 67, 0.3), 0px 1px 3px 1px rgba(60, 64, 67, 0.15);\n",
              "      fill: #174EA6;\n",
              "    }\n",
              "\n",
              "    [theme=dark] .colab-df-convert {\n",
              "      background-color: #3B4455;\n",
              "      fill: #D2E3FC;\n",
              "    }\n",
              "\n",
              "    [theme=dark] .colab-df-convert:hover {\n",
              "      background-color: #434B5C;\n",
              "      box-shadow: 0px 1px 3px 1px rgba(0, 0, 0, 0.15);\n",
              "      filter: drop-shadow(0px 1px 2px rgba(0, 0, 0, 0.3));\n",
              "      fill: #FFFFFF;\n",
              "    }\n",
              "  </style>\n",
              "\n",
              "      <script>\n",
              "        const buttonEl =\n",
              "          document.querySelector('#df-d2eb9c02-3307-4bcd-90b8-645371078235 button.colab-df-convert');\n",
              "        buttonEl.style.display =\n",
              "          google.colab.kernel.accessAllowed ? 'block' : 'none';\n",
              "\n",
              "        async function convertToInteractive(key) {\n",
              "          const element = document.querySelector('#df-d2eb9c02-3307-4bcd-90b8-645371078235');\n",
              "          const dataTable =\n",
              "            await google.colab.kernel.invokeFunction('convertToInteractive',\n",
              "                                                     [key], {});\n",
              "          if (!dataTable) return;\n",
              "\n",
              "          const docLinkHtml = 'Like what you see? Visit the ' +\n",
              "            '<a target=\"_blank\" href=https://colab.research.google.com/notebooks/data_table.ipynb>data table notebook</a>'\n",
              "            + ' to learn more about interactive tables.';\n",
              "          element.innerHTML = '';\n",
              "          dataTable['output_type'] = 'display_data';\n",
              "          await google.colab.output.renderOutput(dataTable, element);\n",
              "          const docLink = document.createElement('div');\n",
              "          docLink.innerHTML = docLinkHtml;\n",
              "          element.appendChild(docLink);\n",
              "        }\n",
              "      </script>\n",
              "    </div>\n",
              "  </div>\n",
              "  "
            ]
          },
          "metadata": {},
          "execution_count": 2
        }
      ]
    },
    {
      "cell_type": "code",
      "source": [
        "df.shape"
      ],
      "metadata": {
        "colab": {
          "base_uri": "https://localhost:8080/"
        },
        "id": "OTC3B0LPmg6S",
        "outputId": "539192ca-bf4e-4d0e-9ca6-535c66e34fa8"
      },
      "execution_count": 3,
      "outputs": [
        {
          "output_type": "execute_result",
          "data": {
            "text/plain": [
              "(2891, 7)"
            ]
          },
          "metadata": {},
          "execution_count": 3
        }
      ]
    },
    {
      "cell_type": "code",
      "source": [
        "# check for nulls\n",
        "df.isnull().sum()"
      ],
      "metadata": {
        "colab": {
          "base_uri": "https://localhost:8080/"
        },
        "id": "4GXtPYHCjV6-",
        "outputId": "ae9b19ef-073d-4246-a954-7354a154bfd3"
      },
      "execution_count": 4,
      "outputs": [
        {
          "output_type": "execute_result",
          "data": {
            "text/plain": [
              "Date           0\n",
              "Open           0\n",
              "High           0\n",
              "Low            0\n",
              "Close*         0\n",
              "Adj Close**    0\n",
              "Volume         0\n",
              "dtype: int64"
            ]
          },
          "metadata": {},
          "execution_count": 4
        }
      ]
    },
    {
      "cell_type": "code",
      "source": [
        "df.info()"
      ],
      "metadata": {
        "colab": {
          "base_uri": "https://localhost:8080/"
        },
        "id": "wkDD0uffkJ3l",
        "outputId": "8b5d2059-e87c-4093-b90b-260ee1aec156"
      },
      "execution_count": 5,
      "outputs": [
        {
          "output_type": "stream",
          "name": "stdout",
          "text": [
            "<class 'pandas.core.frame.DataFrame'>\n",
            "RangeIndex: 2891 entries, 0 to 2890\n",
            "Data columns (total 7 columns):\n",
            " #   Column       Non-Null Count  Dtype  \n",
            "---  ------       --------------  -----  \n",
            " 0   Date         2891 non-null   object \n",
            " 1   Open         2891 non-null   float64\n",
            " 2   High         2891 non-null   float64\n",
            " 3   Low          2891 non-null   float64\n",
            " 4   Close*       2891 non-null   float64\n",
            " 5   Adj Close**  2891 non-null   float64\n",
            " 6   Volume       2891 non-null   float64\n",
            "dtypes: float64(6), object(1)\n",
            "memory usage: 158.2+ KB\n"
          ]
        }
      ]
    },
    {
      "cell_type": "code",
      "source": [
        "# format Date column to date\n",
        "df['Date'] = df['Date'].astype('datetime64[ns]')"
      ],
      "metadata": {
        "id": "kYEDcWZbkduX"
      },
      "execution_count": 6,
      "outputs": []
    },
    {
      "cell_type": "markdown",
      "source": [
        "Good thing we do not have null values and we've performed data formatting. Now that we've cleaned our data, let's look at the historical data in a plot."
      ],
      "metadata": {
        "id": "unS8YFEwRE1L"
      }
    },
    {
      "cell_type": "code",
      "source": [
        "plt.figure(figsize=(20,8))\n",
        "plt.title('BTC historical price in USD')\n",
        "plt.plot(df['Date'], df['Close*'])\n",
        "plt.xlabel('Date')\n",
        "plt.ylabel('Price in USD')\n",
        "plt.show()"
      ],
      "metadata": {
        "colab": {
          "base_uri": "https://localhost:8080/",
          "height": 513
        },
        "id": "XA_vt17njxAo",
        "outputId": "7cb9540f-5886-4d10-f6d2-1c806e2a4721"
      },
      "execution_count": 25,
      "outputs": [
        {
          "output_type": "display_data",
          "data": {
            "text/plain": [
              "<Figure size 1440x576 with 1 Axes>"
            ],
            "image/png": "[encoded data removed]"
          },
          "metadata": {
            "needs_background": "light"
          }
        }
      ]
    },
    {
      "cell_type": "markdown",
      "source": [
        "###**Model Architecture**"
      ],
      "metadata": {
        "id": "IrP-56UqC9iF"
      }
    },
    {
      "cell_type": "markdown",
      "source": [
        "Before we go to training the model, let us identify the train and test dataset. First we need to scale the data using MinMaxScaler to avoid issues during the training. Once the data is scaled, we assign the train and datasets. The step variable is the number of days we want the model to influence previous value which we set to 90 days. The model consists of 2 LSTM layer and 2 Dense layer consisting of 1 final dense layer.\n",
        "\n"
      ],
      "metadata": {
        "id": "zLwlnGxsR292"
      }
    },
    {
      "cell_type": "code",
      "source": [
        "data = df.filter(['Close*'])\n",
        "ds = data.values\n",
        "\n",
        "scaler = MinMaxScaler(feature_range=(0,1))\n",
        "df1 = scaler.fit_transform(ds)\n",
        "df1"
      ],
      "metadata": {
        "colab": {
          "base_uri": "https://localhost:8080/"
        },
        "id": "YP2G5psMoJBE",
        "outputId": "a90a918e-b77a-4832-a90c-ce96b2742a6b"
      },
      "execution_count": 8,
      "outputs": [
        {
          "output_type": "execute_result",
          "data": {
            "text/plain": [
              "array([[0.00414357],\n",
              "       [0.00365551],\n",
              "       [0.00321567],\n",
              "       ...,\n",
              "       [0.35823839],\n",
              "       [0.3555323 ],\n",
              "       [0.35297371]])"
            ]
          },
          "metadata": {},
          "execution_count": 8
        }
      ]
    },
    {
      "cell_type": "code",
      "source": [
        "train_size = round(len(df1) * 0.90)\n",
        "test_size = len(df1) - train_size\n",
        "\n",
        "train_data = df1[0:train_size,:]\n",
        "test_data = df1[train_size:len(df1), :1]"
      ],
      "metadata": {
        "id": "b38CPVTz7KpK"
      },
      "execution_count": 11,
      "outputs": []
    },
    {
      "cell_type": "code",
      "source": [
        "train_size, test_size"
      ],
      "metadata": {
        "colab": {
          "base_uri": "https://localhost:8080/"
        },
        "id": "fNuUtnTTj_ci",
        "outputId": "f62bda1b-194e-4266-dada-9cf7bfd0fa18"
      },
      "execution_count": 12,
      "outputs": [
        {
          "output_type": "execute_result",
          "data": {
            "text/plain": [
              "(2602, 289)"
            ]
          },
          "metadata": {},
          "execution_count": 12
        }
      ]
    },
    {
      "cell_type": "code",
      "source": [
        "time_step = 60\n",
        "X_train = []\n",
        "y_train = []\n",
        "\n",
        "for i in range(time_step, len(train_data)):\n",
        "    X_train.append(train_data[i-time_step:i, 0])\n",
        "    y_train.append(train_data[i, 0])\n",
        "    if i<= time_step + 1:\n",
        "        print(X_train)\n",
        "        print(y_train)\n",
        "        print()\n",
        "\n",
        "X_train, y_train = np.array(X_train), np.array(y_train)\n",
        "\n",
        "# Reshape the data\n",
        "X_train = np.reshape(X_train, (X_train.shape[0], X_train.shape[1], 1))\n",
        "X_train.shape"
      ],
      "metadata": {
        "colab": {
          "base_uri": "https://localhost:8080/"
        },
        "id": "4JEo0C8ojpJj",
        "outputId": "1c905d16-5115-4ce9-c785-1a54f6b2235a"
      },
      "execution_count": 13,
      "outputs": [
        {
          "output_type": "stream",
          "name": "stdout",
          "text": [
            "[array([0.00414357, 0.00365551, 0.00321567, 0.00342491, 0.00327533,\n",
            "       0.00332474, 0.00382393, 0.00363711, 0.00346453, 0.00335843,\n",
            "       0.00328571, 0.0029542 , 0.00292883, 0.00309903, 0.00304962,\n",
            "       0.00292289, 0.00269199, 0.00223732, 0.00211326, 0.00225527,\n",
            "       0.00234594, 0.0025945 , 0.00277391, 0.00272241, 0.00273339,\n",
            "       0.00297453, 0.00315053, 0.00330575, 0.00321523, 0.00303404,\n",
            "       0.00305185, 0.00316581, 0.00313777, 0.00303834, 0.00309221,\n",
            "       0.00304294, 0.00267582, 0.00267478, 0.00251036, 0.00262062,\n",
            "       0.00259524, 0.00266395, 0.00233704, 0.00248113, 0.00237755,\n",
            "       0.00219102, 0.0021931 , 0.00221773, 0.00226136, 0.00239491,\n",
            "       0.00254034, 0.00243839, 0.00248395, 0.00274764, 0.00280195,\n",
            "       0.00281353, 0.00364245, 0.00360045, 0.00326049, 0.00293862])]\n",
            "[0.003112983432096138]\n",
            "\n",
            "[array([0.00414357, 0.00365551, 0.00321567, 0.00342491, 0.00327533,\n",
            "       0.00332474, 0.00382393, 0.00363711, 0.00346453, 0.00335843,\n",
            "       0.00328571, 0.0029542 , 0.00292883, 0.00309903, 0.00304962,\n",
            "       0.00292289, 0.00269199, 0.00223732, 0.00211326, 0.00225527,\n",
            "       0.00234594, 0.0025945 , 0.00277391, 0.00272241, 0.00273339,\n",
            "       0.00297453, 0.00315053, 0.00330575, 0.00321523, 0.00303404,\n",
            "       0.00305185, 0.00316581, 0.00313777, 0.00303834, 0.00309221,\n",
            "       0.00304294, 0.00267582, 0.00267478, 0.00251036, 0.00262062,\n",
            "       0.00259524, 0.00266395, 0.00233704, 0.00248113, 0.00237755,\n",
            "       0.00219102, 0.0021931 , 0.00221773, 0.00226136, 0.00239491,\n",
            "       0.00254034, 0.00243839, 0.00248395, 0.00274764, 0.00280195,\n",
            "       0.00281353, 0.00364245, 0.00360045, 0.00326049, 0.00293862]), array([0.00365551, 0.00321567, 0.00342491, 0.00327533, 0.00332474,\n",
            "       0.00382393, 0.00363711, 0.00346453, 0.00335843, 0.00328571,\n",
            "       0.0029542 , 0.00292883, 0.00309903, 0.00304962, 0.00292289,\n",
            "       0.00269199, 0.00223732, 0.00211326, 0.00225527, 0.00234594,\n",
            "       0.0025945 , 0.00277391, 0.00272241, 0.00273339, 0.00297453,\n",
            "       0.00315053, 0.00330575, 0.00321523, 0.00303404, 0.00305185,\n",
            "       0.00316581, 0.00313777, 0.00303834, 0.00309221, 0.00304294,\n",
            "       0.00267582, 0.00267478, 0.00251036, 0.00262062, 0.00259524,\n",
            "       0.00266395, 0.00233704, 0.00248113, 0.00237755, 0.00219102,\n",
            "       0.0021931 , 0.00221773, 0.00226136, 0.00239491, 0.00254034,\n",
            "       0.00243839, 0.00248395, 0.00274764, 0.00280195, 0.00281353,\n",
            "       0.00364245, 0.00360045, 0.00326049, 0.00293862, 0.00311298])]\n",
            "[0.003112983432096138, 0.0031060089721233804]\n",
            "\n"
          ]
        },
        {
          "output_type": "execute_result",
          "data": {
            "text/plain": [
              "(2542, 60, 1)"
            ]
          },
          "metadata": {},
          "execution_count": 13
        }
      ]
    },
    {
      "cell_type": "code",
      "source": [
        "# Build the LSTM model\n",
        "model = Sequential()\n",
        "model.add(LSTM(128, return_sequences=True, input_shape= (X_train.shape[1], 1)))\n",
        "model.add(LSTM(64, return_sequences=False))\n",
        "model.add(Dense(25))\n",
        "model.add(Dense(1))\n",
        "\n",
        "model.compile(optimizer='adam', loss='mean_squared_error')\n"
      ],
      "metadata": {
        "id": "Q-djI5yFkO-i"
      },
      "execution_count": 14,
      "outputs": []
    },
    {
      "cell_type": "code",
      "source": [
        "model.summary()"
      ],
      "metadata": {
        "colab": {
          "base_uri": "https://localhost:8080/"
        },
        "id": "HFxb9zkxkXq2",
        "outputId": "16d7b1fa-2599-42c5-fe73-f0867380839f"
      },
      "execution_count": 15,
      "outputs": [
        {
          "output_type": "stream",
          "name": "stdout",
          "text": [
            "Model: \"sequential\"\n",
            "_________________________________________________________________\n",
            " Layer (type)                Output Shape              Param #   \n",
            "=================================================================\n",
            " lstm (LSTM)                 (None, 60, 128)           66560     \n",
            "                                                                 \n",
            " lstm_1 (LSTM)               (None, 64)                49408     \n",
            "                                                                 \n",
            " dense (Dense)               (None, 25)                1625      \n",
            "                                                                 \n",
            " dense_1 (Dense)             (None, 1)                 26        \n",
            "                                                                 \n",
            "=================================================================\n",
            "Total params: 117,619\n",
            "Trainable params: 117,619\n",
            "Non-trainable params: 0\n",
            "_________________________________________________________________\n"
          ]
        }
      ]
    },
    {
      "cell_type": "code",
      "source": [
        "model.fit(X_train, y_train, batch_size = 32, epochs = 3)"
      ],
      "metadata": {
        "colab": {
          "base_uri": "https://localhost:8080/"
        },
        "id": "AQi8atqgkaAj",
        "outputId": "6f65484e-7391-4033-fc23-45fed80820a8"
      },
      "execution_count": 18,
      "outputs": [
        {
          "output_type": "stream",
          "name": "stdout",
          "text": [
            "Epoch 1/3\n",
            "80/80 [==============================] - 1s 14ms/step - loss: 1.7286e-04\n",
            "Epoch 2/3\n",
            "80/80 [==============================] - 1s 10ms/step - loss: 1.2863e-04\n",
            "Epoch 3/3\n",
            "80/80 [==============================] - 1s 9ms/step - loss: 1.2853e-04\n"
          ]
        },
        {
          "output_type": "execute_result",
          "data": {
            "text/plain": [
              "<keras.callbacks.History at 0x7fe466c04a50>"
            ]
          },
          "metadata": {},
          "execution_count": 18
        }
      ]
    },
    {
      "cell_type": "code",
      "source": [
        "# Create the data for X_test and y_test\n",
        "\n",
        "test_data = df1[train_size - 60: , :]\n",
        "\n",
        "X_test = []\n",
        "y_test = ds[train_size:, :]\n",
        "for i in range(60, len(test_data)):\n",
        "    X_test.append(test_data[i - 60:i, 0])\n",
        "X_test = np.array(X_test)\n",
        "X_test = np.reshape(X_test, (X_test.shape[0], X_test.shape[1], 1 ))\n"
      ],
      "metadata": {
        "id": "w7fTDK_Tk83e"
      },
      "execution_count": 37,
      "outputs": []
    },
    {
      "cell_type": "code",
      "source": [
        "# Preict the values\n",
        "pred = model.predict(X_test)\n",
        "pred = scaler.inverse_transform(pred)\n",
        "\n",
        "# Root mean squared error (RMSE)\n",
        "rmse = np.sqrt(np.mean(((pred - y_test) ** 2)))\n",
        "rmse\n"
      ],
      "metadata": {
        "colab": {
          "base_uri": "https://localhost:8080/"
        },
        "id": "kZ-px-ZKqjN-",
        "outputId": "4c498819-531a-4b69-e5a3-324c473bf5aa"
      },
      "execution_count": 39,
      "outputs": [
        {
          "output_type": "execute_result",
          "data": {
            "text/plain": [
              "1403.071027526777"
            ]
          },
          "metadata": {},
          "execution_count": 39
        }
      ]
    },
    {
      "cell_type": "markdown",
      "source": [
        "We have succesfuly built a predictive model using RNN with LSTM layers. Let see the predictions, train and validation sets in the plot."
      ],
      "metadata": {
        "id": "29WvE1Z0rZ3x"
      }
    },
    {
      "cell_type": "code",
      "source": [
        "# Plot the data with predictions\n",
        "train = df[:train_size]\n",
        "valid = df[train_size:]\n",
        "valid['pred'] = pred\n",
        "plt.figure(figsize=(20,8))\n",
        "plt.xlabel('Date')\n",
        "plt.ylabel('Price in USD')\n",
        "plt.plot(train['Date'],train['Close*'])\n",
        "plt.plot(valid['Date'],valid[['Close*', 'pred']])\n",
        "plt.legend(['train', 'valid', 'pred'], loc='upper right')\n",
        "plt.show()"
      ],
      "metadata": {
        "colab": {
          "base_uri": "https://localhost:8080/",
          "height": 601
        },
        "id": "E5xKvBiPms4l",
        "outputId": "6e52c9c0-ebc7-40cb-a67b-64417a721090"
      },
      "execution_count": 36,
      "outputs": [
        {
          "output_type": "stream",
          "name": "stderr",
          "text": [
            "/usr/local/lib/python3.7/dist-packages/ipykernel_launcher.py:4: SettingWithCopyWarning: \n",
            "A value is trying to be set on a copy of a slice from a DataFrame.\n",
            "Try using .loc[row_indexer,col_indexer] = value instead\n",
            "\n",
            "See the caveats in the documentation: https://pandas.pydata.org/pandas-docs/stable/user_guide/indexing.html#returning-a-view-versus-a-copy\n",
            "  after removing the cwd from sys.path.\n"
          ]
        },
        {
          "output_type": "display_data",
          "data": {
            "text/plain": [
              "<Figure size 1440x576 with 1 Axes>"
            ],
            "image/png": "[encoded data removed]"
          },
          "metadata": {
            "needs_background": "light"
          }
        }
      ]
    }
  ]
}