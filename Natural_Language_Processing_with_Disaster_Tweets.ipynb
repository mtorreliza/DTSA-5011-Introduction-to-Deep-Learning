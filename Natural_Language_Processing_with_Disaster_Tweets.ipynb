{
  "nbformat": 4,
  "nbformat_minor": 0,
  "metadata": {
    "colab": {
      "name": "Natural Language Processing with Disaster Tweets",
      "provenance": []
    },
    "kernelspec": {
      "name": "python3",
      "display_name": "Python 3"
    },
    "language_info": {
      "name": "python"
    },
    "accelerator": "GPU",
    "gpuClass": "standard"
  },
  "cells": [
    {
      "cell_type": "markdown",
      "source": [
        "# DTSA 5511 Introduction to Deep Learning - WEEK 4\n",
        "## Natural Language Processing with Disaster Tweets"
      ],
      "metadata": {
        "id": "VFLyMxI4i9yV"
      }
    },
    {
      "cell_type": "markdown",
      "source": [
        "### Overview\n",
        "\n",
        "Twitter is one of the most commonly used social media. The goal of this project is to predict whether a tweet is announcing about a disaster or not. The kaggle competition can found in this link: https://www.kaggle.com/competitions/nlp-getting-started/overview.\n",
        "\n",
        "The training dataset provided contains 7,503 unique tweets and will be used to train the NLP machine learning algorithm. In this specific exercise, RNN(Recurring Neural Network) will be used. RNN is commonly used in speech recognition and Natural Language Processing. It recognizes data's sequential chatacteristics which make it applicable to this analysis. The sequence of the words in each tweet is important otherwise, it would not make sense for the most part of it. (Source: https://www.techtarget.com/searchenterpriseai/definition/recurrent-neural-networks)"
      ],
      "metadata": {
        "id": "LR_bzXXzjBLO"
      }
    },
    {
      "cell_type": "markdown",
      "source": [
        "### Exploratory Data Analysis"
      ],
      "metadata": {
        "id": "67joQwEijB8e"
      }
    },
    {
      "cell_type": "code",
      "execution_count": 14,
      "metadata": {
        "id": "aGEvKSPUMOLI"
      },
      "outputs": [],
      "source": [
        "import numpy as np\n",
        "import pandas as pd\n",
        "import matplotlib.pyplot as plt\n",
        "import tensorflow as tf\n",
        "from keras.models import Sequential, load_model\n",
        "from keras.layers import LSTM, GRU\n",
        "from keras.layers import Dense, Embedding, Bidirectional, Dropout, Flatten\n",
        "from keras.preprocessing.text import Tokenizer\n",
        "from keras.preprocessing.sequence import pad_sequences\n",
        "from keras.callbacks import EarlyStopping"
      ]
    },
    {
      "cell_type": "markdown",
      "source": [
        "Let us look at the train and test datasets and analyze each dimensions/columns"
      ],
      "metadata": {
        "id": "D1DrO5w9X9LE"
      }
    },
    {
      "cell_type": "code",
      "source": [
        "df_train = pd.read_csv('train.csv')\n",
        "df_test = pd.read_csv('test.csv')\n",
        "\n",
        "print(df_train.head())\n",
        "print(df_test.head())"
      ],
      "metadata": {
        "colab": {
          "base_uri": "https://localhost:8080/"
        },
        "id": "lyUsA2avNfYW",
        "outputId": "9f8bbd89-6aa8-424c-cc2b-9a005d891981"
      },
      "execution_count": 2,
      "outputs": [
        {
          "output_type": "stream",
          "name": "stdout",
          "text": [
            "   id keyword location                                               text  \\\n",
            "0   1     NaN      NaN  Our Deeds are the Reason of this #earthquake M...   \n",
            "1   4     NaN      NaN             Forest fire near La Ronge Sask. Canada   \n",
            "2   5     NaN      NaN  All residents asked to 'shelter in place' are ...   \n",
            "3   6     NaN      NaN  13,000 people receive #wildfires evacuation or...   \n",
            "4   7     NaN      NaN  Just got sent this photo from Ruby #Alaska as ...   \n",
            "\n",
            "   target  \n",
            "0       1  \n",
            "1       1  \n",
            "2       1  \n",
            "3       1  \n",
            "4       1  \n",
            "   id keyword location                                               text\n",
            "0   0     NaN      NaN                 Just happened a terrible car crash\n",
            "1   2     NaN      NaN  Heard about #earthquake is different cities, s...\n",
            "2   3     NaN      NaN  there is a forest fire at spot pond, geese are...\n",
            "3   9     NaN      NaN           Apocalypse lighting. #Spokane #wildfires\n",
            "4  11     NaN      NaN      Typhoon Soudelor kills 28 in China and Taiwan\n"
          ]
        }
      ]
    },
    {
      "cell_type": "code",
      "source": [
        "df_train.shape"
      ],
      "metadata": {
        "colab": {
          "base_uri": "https://localhost:8080/"
        },
        "id": "C4zlALZGNyow",
        "outputId": "d2ceab9a-4ff2-4cc7-9545-b90a02852648"
      },
      "execution_count": 3,
      "outputs": [
        {
          "output_type": "execute_result",
          "data": {
            "text/plain": [
              "(7613, 5)"
            ]
          },
          "metadata": {},
          "execution_count": 3
        }
      ]
    },
    {
      "cell_type": "markdown",
      "source": [
        "The train data consists of 57% of target 1 and 43% of target 0. "
      ],
      "metadata": {
        "id": "Kk7jxnOYkr7f"
      }
    },
    {
      "cell_type": "code",
      "source": [
        "# label distribution \n",
        "df_train['target'].value_counts()"
      ],
      "metadata": {
        "colab": {
          "base_uri": "https://localhost:8080/"
        },
        "id": "ZMkkerDjkUrx",
        "outputId": "b261b26d-ecec-407c-b331-5ee79af62240"
      },
      "execution_count": 140,
      "outputs": [
        {
          "output_type": "execute_result",
          "data": {
            "text/plain": [
              "0    4342\n",
              "1    3271\n",
              "Name: target, dtype: int64"
            ]
          },
          "metadata": {},
          "execution_count": 140
        }
      ]
    },
    {
      "cell_type": "code",
      "source": [
        "plt.pie(df_train['target'].value_counts(), labels=['0','1'])\n",
        "plt.show()"
      ],
      "metadata": {
        "colab": {
          "base_uri": "https://localhost:8080/",
          "height": 248
        },
        "id": "gbnXzh6SkMoV",
        "outputId": "16184838-eff9-4804-92be-b580884a40b2"
      },
      "execution_count": 138,
      "outputs": [
        {
          "output_type": "display_data",
          "data": {
            "text/plain": [
              "<Figure size 432x288 with 1 Axes>"
            ],
            "image/png": "[encoded data removed]"
          },
          "metadata": {}
        }
      ]
    },
    {
      "cell_type": "code",
      "source": [
        "df_test.shape"
      ],
      "metadata": {
        "colab": {
          "base_uri": "https://localhost:8080/"
        },
        "id": "wXhLnLMPWKSC",
        "outputId": "7767b0f3-b2a7-4461-bada-27361cfa6cf0"
      },
      "execution_count": 4,
      "outputs": [
        {
          "output_type": "execute_result",
          "data": {
            "text/plain": [
              "(3263, 4)"
            ]
          },
          "metadata": {},
          "execution_count": 4
        }
      ]
    },
    {
      "cell_type": "code",
      "source": [
        "df_train['text']"
      ],
      "metadata": {
        "colab": {
          "base_uri": "https://localhost:8080/"
        },
        "id": "kQmz7_LjSQvD",
        "outputId": "2535f1bb-abc7-43c1-9dcc-fb232688be7b"
      },
      "execution_count": 5,
      "outputs": [
        {
          "output_type": "execute_result",
          "data": {
            "text/plain": [
              "0       Our Deeds are the Reason of this #earthquake M...\n",
              "1                  Forest fire near La Ronge Sask. Canada\n",
              "2       All residents asked to 'shelter in place' are ...\n",
              "3       13,000 people receive #wildfires evacuation or...\n",
              "4       Just got sent this photo from Ruby #Alaska as ...\n",
              "                              ...                        \n",
              "7608    Two giant cranes holding a bridge collapse int...\n",
              "7609    @aria_ahrary @TheTawniest The out of control w...\n",
              "7610    M1.94 [01:04 UTC]?5km S of Volcano Hawaii. htt...\n",
              "7611    Police investigating after an e-bike collided ...\n",
              "7612    The Latest: More Homes Razed by Northern Calif...\n",
              "Name: text, Length: 7613, dtype: object"
            ]
          },
          "metadata": {},
          "execution_count": 5
        }
      ]
    },
    {
      "cell_type": "markdown",
      "source": [
        "### Model Architecture\n",
        "\n",
        "We are only intrested in the tweet and label column. In this case, we will manually capture X_train and y_train as text and target columns respectively. \n",
        "\n",
        "The tokenizer will be applied in all of the dataset to attain uniformity once we get into predict mode, in other words, the train and test data will be combined to be tokenized. Once tokenized, we will apply padding to get equal number of dimensions in each entry and then apply the model.\n",
        "\n",
        "The first RNN model consists of embedding layer, LTSM (Long Short-Term Memory) layer, apply a relu activation function and an output layer with Sigmoid activation function. Out of curiosity, I will try to use Bidirectional LTSM in the second model, as they say that it usually improves the model."
      ],
      "metadata": {
        "id": "-Z9-f5utZ2pm"
      }
    },
    {
      "cell_type": "code",
      "source": [
        "X_train = df_train['text'].values\n",
        "y_train = df_train['target'].values\n",
        "X_test = df_test['text'].values"
      ],
      "metadata": {
        "id": "sdmVgJZSSkvy"
      },
      "execution_count": 6,
      "outputs": []
    },
    {
      "cell_type": "markdown",
      "source": [
        ""
      ],
      "metadata": {
        "id": "Jz9LusUNZXwq"
      }
    },
    {
      "cell_type": "code",
      "source": [
        "# combine train and test and apply tokenizer\n",
        "df_to_vector = np.concatenate((X_train, X_test))\n",
        "df_to_vector"
      ],
      "metadata": {
        "colab": {
          "base_uri": "https://localhost:8080/"
        },
        "id": "N5ubi091VAwY",
        "outputId": "f3650f01-7e46-400c-d59d-cbe92474b4a5"
      },
      "execution_count": 7,
      "outputs": [
        {
          "output_type": "execute_result",
          "data": {
            "text/plain": [
              "array(['Our Deeds are the Reason of this #earthquake May ALLAH Forgive us all',\n",
              "       'Forest fire near La Ronge Sask. Canada',\n",
              "       \"All residents asked to 'shelter in place' are being notified by officers. No other evacuation or shelter in place orders are expected\",\n",
              "       ..., 'Green Line derailment in Chicago http://t.co/UtbXLcBIuY',\n",
              "       'MEG issues Hazardous Weather Outlook (HWO) http://t.co/3X6RBQJHn3',\n",
              "       '#CityofCalgary has activated its Municipal Emergency Plan. #yycstorm'],\n",
              "      dtype=object)"
            ]
          },
          "metadata": {},
          "execution_count": 7
        }
      ]
    },
    {
      "cell_type": "code",
      "source": [
        "tokenizer = Tokenizer()\n",
        "tokenizer.fit_on_texts(df_to_vector)\n",
        "\n",
        "X_train_tokenized = tokenizer.texts_to_sequences(X_train)\n",
        "X_test_tokenized = tokenizer.texts_to_sequences(X_test)"
      ],
      "metadata": {
        "id": "jcnWeRLEOqtm"
      },
      "execution_count": 8,
      "outputs": []
    },
    {
      "cell_type": "code",
      "source": [
        "X_train[1]"
      ],
      "metadata": {
        "colab": {
          "base_uri": "https://localhost:8080/",
          "height": 35
        },
        "id": "owcbhdFaPecO",
        "outputId": "1d15fbbe-9d91-4fda-a002-1ac7358505b8"
      },
      "execution_count": 25,
      "outputs": [
        {
          "output_type": "execute_result",
          "data": {
            "text/plain": [
              "'Forest fire near La Ronge Sask. Canada'"
            ],
            "application/vnd.google.colaboratory.intrinsic+json": {
              "type": "string"
            }
          },
          "metadata": {},
          "execution_count": 25
        }
      ]
    },
    {
      "cell_type": "code",
      "source": [
        "X_train_tokenized[1]"
      ],
      "metadata": {
        "colab": {
          "base_uri": "https://localhost:8080/"
        },
        "id": "aGF-nj4IP8Oz",
        "outputId": "d42a8c2d-8b82-40e9-ed17-844ed6346f55"
      },
      "execution_count": 26,
      "outputs": [
        {
          "output_type": "execute_result",
          "data": {
            "text/plain": [
              "[168, 43, 212, 927, 8813, 8814, 1442]"
            ]
          },
          "metadata": {},
          "execution_count": 26
        }
      ]
    },
    {
      "cell_type": "code",
      "source": [
        "y_train[1]"
      ],
      "metadata": {
        "colab": {
          "base_uri": "https://localhost:8080/"
        },
        "id": "iJjruVUDHcre",
        "outputId": "7b652e40-71ad-47bf-865f-b8d2ef969b19"
      },
      "execution_count": 27,
      "outputs": [
        {
          "output_type": "execute_result",
          "data": {
            "text/plain": [
              "1"
            ]
          },
          "metadata": {},
          "execution_count": 27
        }
      ]
    },
    {
      "cell_type": "code",
      "source": [
        "# pads sequences to the same length\n",
        "max = max(len(x.split()) for x in df_to_vector)\n",
        "\n",
        "X_train_padded = pad_sequences(X_train_tokenized, maxlen = max, padding='post')\n",
        "X_test_padded = pad_sequences(X_test_tokenized, maxlen = max, padding='post')"
      ],
      "metadata": {
        "id": "ZqYmyJuoZDci"
      },
      "execution_count": 11,
      "outputs": []
    },
    {
      "cell_type": "code",
      "source": [
        "# total num_words in the dataset or vocab\n",
        "num_words = len(tokenizer.word_index) + 1\n",
        "\n",
        "model = Sequential()\n",
        "model.add(Embedding(num_words, 100, input_length = max))\n",
        "model.add(LSTM(128))\n",
        "model.add(Dropout(0.2))\n",
        "model.add(Flatten())\n",
        "model.add(Dense(256, activation='relu'))\n",
        "model.add(Dropout(0.2))\n",
        "model.add(Dense(1, activation='sigmoid'))\n",
        "\n",
        "opt = tf.keras.optimizers.Adam(0.001)\n",
        "model.compile(loss = 'binary_crossentropy', optimizer = opt, metrics = ['accuracy'])\n",
        "\n",
        "model.summary()"
      ],
      "metadata": {
        "colab": {
          "base_uri": "https://localhost:8080/"
        },
        "id": "SfMT8U0wZ0Nr",
        "outputId": "98f9552b-ec1e-4a83-a02b-ef9ca02dd021"
      },
      "execution_count": 118,
      "outputs": [
        {
          "output_type": "stream",
          "name": "stdout",
          "text": [
            "Model: \"sequential_9\"\n",
            "_________________________________________________________________\n",
            " Layer (type)                Output Shape              Param #   \n",
            "=================================================================\n",
            " embedding_9 (Embedding)     (None, 31, 100)           2932000   \n",
            "                                                                 \n",
            " lstm_8 (LSTM)               (None, 128)               117248    \n",
            "                                                                 \n",
            " dropout_16 (Dropout)        (None, 128)               0         \n",
            "                                                                 \n",
            " flatten_3 (Flatten)         (None, 128)               0         \n",
            "                                                                 \n",
            " dense_16 (Dense)            (None, 256)               33024     \n",
            "                                                                 \n",
            " dropout_17 (Dropout)        (None, 256)               0         \n",
            "                                                                 \n",
            " dense_17 (Dense)            (None, 1)                 257       \n",
            "                                                                 \n",
            "=================================================================\n",
            "Total params: 3,082,529\n",
            "Trainable params: 3,082,529\n",
            "Non-trainable params: 0\n",
            "_________________________________________________________________\n"
          ]
        }
      ]
    },
    {
      "cell_type": "code",
      "source": [
        "# Create callbacks\n",
        "callbacks = [EarlyStopping(monitor='val_loss', patience = 5)]"
      ],
      "metadata": {
        "id": "8p-6RMnTg_Km"
      },
      "execution_count": 119,
      "outputs": []
    },
    {
      "cell_type": "code",
      "source": [
        "model_history = model.fit(X_train_padded, y_train, batch_size = 128, callbacks = callbacks, epochs = 10, validation_split=0.2)"
      ],
      "metadata": {
        "colab": {
          "base_uri": "https://localhost:8080/"
        },
        "id": "oicyaWZgfvRX",
        "outputId": "65118824-e81c-4d25-86bc-97e552091c9c"
      },
      "execution_count": 120,
      "outputs": [
        {
          "output_type": "stream",
          "name": "stdout",
          "text": [
            "Epoch 1/10\n",
            "48/48 [==============================] - 3s 20ms/step - loss: 0.6470 - accuracy: 0.6161 - val_loss: 0.5281 - val_accuracy: 0.7603\n",
            "Epoch 2/10\n",
            "48/48 [==============================] - 0s 9ms/step - loss: 0.3720 - accuracy: 0.8473 - val_loss: 0.4729 - val_accuracy: 0.7912\n",
            "Epoch 3/10\n",
            "48/48 [==============================] - 0s 9ms/step - loss: 0.1843 - accuracy: 0.9327 - val_loss: 0.7177 - val_accuracy: 0.7695\n",
            "Epoch 4/10\n",
            "48/48 [==============================] - 0s 10ms/step - loss: 0.0942 - accuracy: 0.9700 - val_loss: 0.7088 - val_accuracy: 0.7275\n",
            "Epoch 5/10\n",
            "48/48 [==============================] - 0s 10ms/step - loss: 0.0520 - accuracy: 0.9841 - val_loss: 0.8874 - val_accuracy: 0.7643\n",
            "Epoch 6/10\n",
            "48/48 [==============================] - 0s 10ms/step - loss: 0.0389 - accuracy: 0.9895 - val_loss: 1.0038 - val_accuracy: 0.7564\n",
            "Epoch 7/10\n",
            "48/48 [==============================] - 0s 10ms/step - loss: 0.0314 - accuracy: 0.9926 - val_loss: 0.9311 - val_accuracy: 0.7511\n"
          ]
        }
      ]
    },
    {
      "cell_type": "code",
      "source": [
        "plt.plot(model_history.history['accuracy'])\n",
        "plt.plot(model_history.history['val_accuracy'])\n",
        "plt.title('model 1 accuracy')\n",
        "plt.ylabel('accuracy')\n",
        "plt.xlabel('epoch')\n",
        "plt.legend(['train', 'val'])\n",
        "plt.show()"
      ],
      "metadata": {
        "colab": {
          "base_uri": "https://localhost:8080/",
          "height": 295
        },
        "id": "Jv02Gm_OjRgb",
        "outputId": "c4f6ef47-14ae-410f-b467-85a967866898"
      },
      "execution_count": 121,
      "outputs": [
        {
          "output_type": "display_data",
          "data": {
            "text/plain": [
              "<Figure size 432x288 with 1 Axes>"
            ],
            "image/png": "[encoded data removed]"
          },
          "metadata": {
            "needs_background": "light"
          }
        }
      ]
    },
    {
      "cell_type": "code",
      "source": [
        "plt.plot(model_history.history['loss'])\n",
        "plt.plot(model_history.history['val_loss'])\n",
        "plt.title('model 1 loss')\n",
        "plt.ylabel('loss')\n",
        "plt.xlabel('epoch')\n",
        "plt.legend(['train', 'val'])\n",
        "plt.show()"
      ],
      "metadata": {
        "colab": {
          "base_uri": "https://localhost:8080/",
          "height": 295
        },
        "id": "XY4JvQAQjsmU",
        "outputId": "c2e17a50-d611-46cc-f587-e0cc1cc21dbe"
      },
      "execution_count": 122,
      "outputs": [
        {
          "output_type": "display_data",
          "data": {
            "text/plain": [
              "<Figure size 432x288 with 1 Axes>"
            ],
            "image/png": "[encoded data removed]"
          },
          "metadata": {
            "needs_background": "light"
          }
        }
      ]
    },
    {
      "cell_type": "code",
      "source": [
        "# model 1\n",
        "\n",
        "model1 = Sequential()\n",
        "model1.add(Embedding(num_words, 100, input_length = max))\n",
        "model1.add(Bidirectional(LSTM(128)))\n",
        "model1.add(Dropout(0.2))\n",
        "model1.add(Flatten())\n",
        "model1.add(Dense(256, activation='relu'))\n",
        "model1.add(Dropout(0.2))\n",
        "model1.add(Dense(1, activation='sigmoid'))\n",
        "\n",
        "opt = tf.keras.optimizers.RMSprop(0.001)\n",
        "model1.compile(loss = 'binary_crossentropy', optimizer = opt, metrics = ['accuracy'])\n",
        "\n",
        "model1.summary()"
      ],
      "metadata": {
        "colab": {
          "base_uri": "https://localhost:8080/"
        },
        "id": "EYqCxPm1R0Lh",
        "outputId": "cb0df608-834d-4d1a-cf97-8ff56c8ce54e"
      },
      "execution_count": 124,
      "outputs": [
        {
          "output_type": "stream",
          "name": "stdout",
          "text": [
            "Model: \"sequential_11\"\n",
            "_________________________________________________________________\n",
            " Layer (type)                Output Shape              Param #   \n",
            "=================================================================\n",
            " embedding_11 (Embedding)    (None, 31, 100)           2932000   \n",
            "                                                                 \n",
            " bidirectional_4 (Bidirectio  (None, 256)              234496    \n",
            " nal)                                                            \n",
            "                                                                 \n",
            " dropout_20 (Dropout)        (None, 256)               0         \n",
            "                                                                 \n",
            " flatten_5 (Flatten)         (None, 256)               0         \n",
            "                                                                 \n",
            " dense_20 (Dense)            (None, 256)               65792     \n",
            "                                                                 \n",
            " dropout_21 (Dropout)        (None, 256)               0         \n",
            "                                                                 \n",
            " dense_21 (Dense)            (None, 1)                 257       \n",
            "                                                                 \n",
            "=================================================================\n",
            "Total params: 3,232,545\n",
            "Trainable params: 3,232,545\n",
            "Non-trainable params: 0\n",
            "_________________________________________________________________\n"
          ]
        }
      ]
    },
    {
      "cell_type": "code",
      "source": [
        "model_history1 = model1.fit(X_train_padded, y_train, batch_size = 128, callbacks = callbacks, epochs = 10, validation_split=0.2)"
      ],
      "metadata": {
        "colab": {
          "base_uri": "https://localhost:8080/"
        },
        "id": "NJAnUdXYSCXr",
        "outputId": "5ff105ef-07d3-4d3a-c66e-6f4c6c39bc31"
      },
      "execution_count": 127,
      "outputs": [
        {
          "output_type": "stream",
          "name": "stdout",
          "text": [
            "Epoch 1/10\n",
            "48/48 [==============================] - 1s 14ms/step - loss: 0.0635 - accuracy: 0.9783 - val_loss: 0.7914 - val_accuracy: 0.7538\n",
            "Epoch 2/10\n",
            "48/48 [==============================] - 1s 13ms/step - loss: 0.0462 - accuracy: 0.9862 - val_loss: 1.4570 - val_accuracy: 0.6540\n",
            "Epoch 3/10\n",
            "48/48 [==============================] - 1s 13ms/step - loss: 0.0274 - accuracy: 0.9905 - val_loss: 0.8990 - val_accuracy: 0.7032\n",
            "Epoch 4/10\n",
            "48/48 [==============================] - 1s 13ms/step - loss: 0.0232 - accuracy: 0.9918 - val_loss: 1.2649 - val_accuracy: 0.7111\n",
            "Epoch 5/10\n",
            "48/48 [==============================] - 1s 13ms/step - loss: 0.0274 - accuracy: 0.9921 - val_loss: 1.7422 - val_accuracy: 0.7019\n",
            "Epoch 6/10\n",
            "48/48 [==============================] - 1s 13ms/step - loss: 0.0162 - accuracy: 0.9933 - val_loss: 1.9229 - val_accuracy: 0.7098\n"
          ]
        }
      ]
    },
    {
      "cell_type": "code",
      "source": [
        "plt.plot(model_history1.history['accuracy'])\n",
        "plt.plot(model_history1.history['val_accuracy'])\n",
        "plt.title('model 1 accuracy')\n",
        "plt.ylabel('accuracy')\n",
        "plt.xlabel('epoch')\n",
        "plt.legend(['train', 'val'])\n",
        "plt.show()"
      ],
      "metadata": {
        "colab": {
          "base_uri": "https://localhost:8080/",
          "height": 295
        },
        "id": "wlGliWZGSSnR",
        "outputId": "d1f5d294-16c1-48f6-cb6e-c9b377708cc4"
      },
      "execution_count": 128,
      "outputs": [
        {
          "output_type": "display_data",
          "data": {
            "text/plain": [
              "<Figure size 432x288 with 1 Axes>"
            ],
            "image/png": "[encoded data removed]"
          },
          "metadata": {
            "needs_background": "light"
          }
        }
      ]
    },
    {
      "cell_type": "code",
      "source": [
        "plt.plot(model_history1.history['loss'])\n",
        "plt.plot(model_history1.history['val_loss'])\n",
        "plt.title('model 1 loss')\n",
        "plt.ylabel('loss')\n",
        "plt.xlabel('epoch')\n",
        "plt.legend(['train', 'val'])\n",
        "plt.show()"
      ],
      "metadata": {
        "colab": {
          "base_uri": "https://localhost:8080/",
          "height": 295
        },
        "id": "veH8i4PVShBL",
        "outputId": "cca6c200-23d9-4dd4-a515-a0d2a661b756"
      },
      "execution_count": 130,
      "outputs": [
        {
          "output_type": "display_data",
          "data": {
            "text/plain": [
              "<Figure size 432x288 with 1 Axes>"
            ],
            "image/png": "[encoded data removed]"
          },
          "metadata": {
            "needs_background": "light"
          }
        }
      ]
    },
    {
      "cell_type": "markdown",
      "source": [
        "### Conclusion\n",
        "\n",
        "The first model resulted in a total score of 0.73061 and the second model 0.73643. The first model stopeed at epoch 7 while the second at epoch 6. The second model with Bidirectional LTSM was faster in achieving high training accuracy. Although the difference was not that high. Further reseach on Bidirectional LTSM suggests that it may be good for predicting future values and not on classification as it scans forward and backward, hence maybe the reason why it does not have much significant effect."
      ],
      "metadata": {
        "id": "3SK7BceMfscT"
      }
    },
    {
      "cell_type": "code",
      "source": [
        "pred = model1.predict(X_test_padded)"
      ],
      "metadata": {
        "id": "noiegkY6HpnW"
      },
      "execution_count": 134,
      "outputs": []
    },
    {
      "cell_type": "code",
      "source": [
        "df_final = pd.DataFrame([0 if  i < 0.5 else 1 for i in pred], columns= [\"target\"])\n",
        "df_final[\"id\"] = df_test[\"id\"]"
      ],
      "metadata": {
        "id": "99EaijO0Nlyo"
      },
      "execution_count": 135,
      "outputs": []
    },
    {
      "cell_type": "code",
      "source": [
        "df_final.head()"
      ],
      "metadata": {
        "colab": {
          "base_uri": "https://localhost:8080/",
          "height": 206
        },
        "id": "ZMvM8hcbJtZD",
        "outputId": "e1fa8264-a7e1-4d2a-e36a-432209f34e71"
      },
      "execution_count": 136,
      "outputs": [
        {
          "output_type": "execute_result",
          "data": {
            "text/plain": [
              "   target  id\n",
              "0       0   0\n",
              "1       1   2\n",
              "2       1   3\n",
              "3       1   9\n",
              "4       1  11"
            ],
            "text/html": [
              "\n",
              "  <div id=\"df-be707cf8-bec1-4580-827e-a781d1bd5fcd\">\n",
              "    <div class=\"colab-df-container\">\n",
              "      <div>\n",
              "<style scoped>\n",
              "    .dataframe tbody tr th:only-of-type {\n",
              "        vertical-align: middle;\n",
              "    }\n",
              "\n",
              "    .dataframe tbody tr th {\n",
              "        vertical-align: top;\n",
              "    }\n",
              "\n",
              "    .dataframe thead th {\n",
              "        text-align: right;\n",
              "    }\n",
              "</style>\n",
              "<table border=\"1\" class=\"dataframe\">\n",
              "  <thead>\n",
              "    <tr style=\"text-align: right;\">\n",
              "      <th></th>\n",
              "      <th>target</th>\n",
              "      <th>id</th>\n",
              "    </tr>\n",
              "  </thead>\n",
              "  <tbody>\n",
              "    <tr>\n",
              "      <th>0</th>\n",
              "      <td>0</td>\n",
              "      <td>0</td>\n",
              "    </tr>\n",
              "    <tr>\n",
              "      <th>1</th>\n",
              "      <td>1</td>\n",
              "      <td>2</td>\n",
              "    </tr>\n",
              "    <tr>\n",
              "      <th>2</th>\n",
              "      <td>1</td>\n",
              "      <td>3</td>\n",
              "    </tr>\n",
              "    <tr>\n",
              "      <th>3</th>\n",
              "      <td>1</td>\n",
              "      <td>9</td>\n",
              "    </tr>\n",
              "    <tr>\n",
              "      <th>4</th>\n",
              "      <td>1</td>\n",
              "      <td>11</td>\n",
              "    </tr>\n",
              "  </tbody>\n",
              "</table>\n",
              "</div>\n",
              "      <button class=\"colab-df-convert\" onclick=\"convertToInteractive('df-be707cf8-bec1-4580-827e-a781d1bd5fcd')\"\n",
              "              title=\"Convert this dataframe to an interactive table.\"\n",
              "              style=\"display:none;\">\n",
              "        \n",
              "  <svg xmlns=\"http://www.w3.org/2000/svg\" height=\"24px\"viewBox=\"0 0 24 24\"\n",
              "       width=\"24px\">\n",
              "    <path d=\"M0 0h24v24H0V0z\" fill=\"none\"/>\n",
              "    <path d=\"M18.56 5.44l.94 2.06.94-2.06 2.06-.94-2.06-.94-.94-2.06-.94 2.06-2.06.94zm-11 1L8.5 8.5l.94-2.06 2.06-.94-2.06-.94L8.5 2.5l-.94 2.06-2.06.94zm10 10l.94 2.06.94-2.06 2.06-.94-2.06-.94-.94-2.06-.94 2.06-2.06.94z\"/><path d=\"M17.41 7.96l-1.37-1.37c-.4-.4-.92-.59-1.43-.59-.52 0-1.04.2-1.43.59L10.3 9.45l-7.72 7.72c-.78.78-.78 2.05 0 2.83L4 21.41c.39.39.9.59 1.41.59.51 0 1.02-.2 1.41-.59l7.78-7.78 2.81-2.81c.8-.78.8-2.07 0-2.86zM5.41 20L4 18.59l7.72-7.72 1.47 1.35L5.41 20z\"/>\n",
              "  </svg>\n",
              "      </button>\n",
              "      \n",
              "  <style>\n",
              "    .colab-df-container {\n",
              "      display:flex;\n",
              "      flex-wrap:wrap;\n",
              "      gap: 12px;\n",
              "    }\n",
              "\n",
              "    .colab-df-convert {\n",
              "      background-color: #E8F0FE;\n",
              "      border: none;\n",
              "      border-radius: 50%;\n",
              "      cursor: pointer;\n",
              "      display: none;\n",
              "      fill: #1967D2;\n",
              "      height: 32px;\n",
              "      padding: 0 0 0 0;\n",
              "      width: 32px;\n",
              "    }\n",
              "\n",
              "    .colab-df-convert:hover {\n",
              "      background-color: #E2EBFA;\n",
              "      box-shadow: 0px 1px 2px rgba(60, 64, 67, 0.3), 0px 1px 3px 1px rgba(60, 64, 67, 0.15);\n",
              "      fill: #174EA6;\n",
              "    }\n",
              "\n",
              "    [theme=dark] .colab-df-convert {\n",
              "      background-color: #3B4455;\n",
              "      fill: #D2E3FC;\n",
              "    }\n",
              "\n",
              "    [theme=dark] .colab-df-convert:hover {\n",
              "      background-color: #434B5C;\n",
              "      box-shadow: 0px 1px 3px 1px rgba(0, 0, 0, 0.15);\n",
              "      filter: drop-shadow(0px 1px 2px rgba(0, 0, 0, 0.3));\n",
              "      fill: #FFFFFF;\n",
              "    }\n",
              "  </style>\n",
              "\n",
              "      <script>\n",
              "        const buttonEl =\n",
              "          document.querySelector('#df-be707cf8-bec1-4580-827e-a781d1bd5fcd button.colab-df-convert');\n",
              "        buttonEl.style.display =\n",
              "          google.colab.kernel.accessAllowed ? 'block' : 'none';\n",
              "\n",
              "        async function convertToInteractive(key) {\n",
              "          const element = document.querySelector('#df-be707cf8-bec1-4580-827e-a781d1bd5fcd');\n",
              "          const dataTable =\n",
              "            await google.colab.kernel.invokeFunction('convertToInteractive',\n",
              "                                                     [key], {});\n",
              "          if (!dataTable) return;\n",
              "\n",
              "          const docLinkHtml = 'Like what you see? Visit the ' +\n",
              "            '<a target=\"_blank\" href=https://colab.research.google.com/notebooks/data_table.ipynb>data table notebook</a>'\n",
              "            + ' to learn more about interactive tables.';\n",
              "          element.innerHTML = '';\n",
              "          dataTable['output_type'] = 'display_data';\n",
              "          await google.colab.output.renderOutput(dataTable, element);\n",
              "          const docLink = document.createElement('div');\n",
              "          docLink.innerHTML = docLinkHtml;\n",
              "          element.appendChild(docLink);\n",
              "        }\n",
              "      </script>\n",
              "    </div>\n",
              "  </div>\n",
              "  "
            ]
          },
          "metadata": {},
          "execution_count": 136
        }
      ]
    },
    {
      "cell_type": "code",
      "source": [
        "df_final.to_csv('submission.csv',index=False)"
      ],
      "metadata": {
        "id": "VXGBDQf0QQOD"
      },
      "execution_count": 137,
      "outputs": []
    },
    {
      "cell_type": "markdown",
      "source": [
        "![image.png](data:image/png;base64,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)"
      ],
      "metadata": {
        "id": "0AXixoMIgCV6"
      }
    }
  ]
}